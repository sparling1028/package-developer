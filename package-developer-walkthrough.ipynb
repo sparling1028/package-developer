{
 "cells": [
  {
   "cell_type": "markdown",
   "id": "bd06e647",
   "metadata": {},
   "source": [
    "# Development of a Module with Package-Developer\n",
    "Solomon Sparling  \n",
    "2022-09-10  \n",
    "\n",
    "Package-Developer is a package I have been developing for the open soure Python community.\n",
    "\n",
    "This is a standardized way to develop and edit custom modules from your working environment, without ever opening a source file.\n",
    "- Maintains a computer readable *nested directory structure* with code for every method, function, attribute...  \n",
    "- Bring in methods, adjust methods, and recommit those methods to the structure\n",
    "- Binds those adjusted methods to the class and its instances, ensuring consistnecy between the functionality you are testing, and the code that will imported in the next session.\n",
    "\n",
    "This is an example of the ease at which a module can be developed using Package-Developer. I'll be developing a *custom print* class.\n",
    "\n",
    "I had this idea awhile back to make a package that would have this custom format functionality, but specific to a company. The colors associated with the formatting would be scraped from a company homepage automatically."
   ]
  },
  {
   "cell_type": "code",
   "execution_count": 1,
   "id": "fda8dbd1",
   "metadata": {},
   "outputs": [],
   "source": [
    "from package_developer import class_developer\n",
    "import package_developer"
   ]
  },
  {
   "cell_type": "markdown",
   "id": "40515faa",
   "metadata": {},
   "source": [
    "# Company Themes"
   ]
  },
  {
   "cell_type": "code",
   "execution_count": 2,
   "id": "a997944f",
   "metadata": {},
   "outputs": [
    {
     "name": "stdout",
     "output_type": "stream",
     "text": [
      "company_themes not found\n",
      "existing_module = None\n",
      "heading_text\n",
      "88888888888888888888888888888888888888888888888888\n",
      "#  +-----------------------------------------------------------------------------------------------------------------+\n",
      "#  |-----------------------------------------------------------------------------------------------------------------|\n",
      "#  |-----------------------------------------------------------------------------------------------------------------|\n",
      "#  |  888b     d888             888        888           8888888                                    888              |\n",
      "#  |  8888b   d8888             888        888             888                                      888              |\n",
      "#  |  88888b.d88888             888        888             888                                      888              |\n",
      "#  |  888Y88888P888 .d88b.  .d88888888  888888 .d88b.      888  88888b.d88b. 88888b.  .d88b. 888d888888888.d8888b    |\n",
      "#  |  888 Y888P 888d88\"\"88bd88\" 888888  888888d8P  Y8b     888  888 \"888 \"88b888 \"88bd88\"\"88b888P\"  888   88K        |\n",
      "#  |  888  Y8P  888888  888888  888888  88888888888888     888  888  888  888888  888888  888888    888   \"Y8888b.   |\n",
      "#  |  888   \"   888Y88..88PY88b 888Y88b 888888Y8b.         888  888  888  888888 d88PY88..88P888    Y88b.      X88   |\n",
      "#  |  888       888 \"Y88P\"  \"Y88888 \"Y88888888 \"Y8888    8888888888  888  88888888P\"  \"Y88P\" 888     \"Y888 88888P'   |\n",
      "#  |                                                                         888                                     |\n",
      "#  |                                                                         888                                     |\n",
      "#  |                                                                         888                                     |\n",
      "#  |-----------------------------------------------------------------------------------------------------------------|\n",
      "#  |-----------------------------------------------------------------------------------------------------------------|\n",
      "#  +-----------------------------------------------------------------------------------------------------------------+\n",
      "88888888888888888888888888888888888888888888888888\n",
      "\n",
      "\n",
      "\n",
      "text_between_headings\n",
      "88888888888888888888888888888888888888888888888888\n",
      "\n",
      "88888888888888888888888888888888888888888888888888\n",
      "\n",
      "\n",
      "\n",
      "heading_text\n",
      "88888888888888888888888888888888888888888888888888\n",
      "#  +--------------------------------------------------------------------------------------------------------------------------------+\n",
      "#  |--------------------------------------------------------------------------------------------------------------------------------|\n",
      "#  |--------------------------------------------------------------------------------------------------------------------------------|\n",
      "#  |  888b     d888             888        888                  d8888888   888          d8b888             888                      |\n",
      "#  |  8888b   d8888             888        888                 d88888888   888          Y8P888             888                      |\n",
      "#  |  88888b.d88888             888        888                d88P888888   888             888             888                      |\n",
      "#  |  888Y88888P888 .d88b.  .d88888888  888888 .d88b.        d88P 888888888888888888d88888888888b. 888  888888888 .d88b. .d8888b    |\n",
      "#  |  888 Y888P 888d88\"\"88bd88\" 888888  888888d8P  Y8b      d88P  888888   888   888P\"  888888 \"88b888  888888   d8P  Y8b88K        |\n",
      "#  |  888  Y8P  888888  888888  888888  88888888888888     d88P   888888   888   888    888888  888888  888888   88888888\"Y8888b.   |\n",
      "#  |  888   \"   888Y88..88PY88b 888Y88b 888888Y8b.        d8888888888Y88b. Y88b. 888    888888 d88PY88b 888Y88b. Y8b.         X88   |\n",
      "#  |  888       888 \"Y88P\"  \"Y88888 \"Y88888888 \"Y8888    d88P     888 \"Y888 \"Y888888    88888888P\"  \"Y88888 \"Y888 \"Y8888  88888P'   |\n",
      "#  |--------------------------------------------------------------------------------------------------------------------------------|\n",
      "#  |--------------------------------------------------------------------------------------------------------------------------------|\n",
      "#  +--------------------------------------------------------------------------------------------------------------------------------+\n",
      "88888888888888888888888888888888888888888888888888\n",
      "\n",
      "\n",
      "\n",
      "text_between_headings\n",
      "88888888888888888888888888888888888888888888888888\n",
      "\n",
      "88888888888888888888888888888888888888888888888888\n",
      "\n",
      "\n",
      "\n",
      "heading_text\n",
      "88888888888888888888888888888888888888888888888888\n",
      "#  +------------------------------------------------------------------------------------------------------------------------+\n",
      "#  |------------------------------------------------------------------------------------------------------------------------|\n",
      "#  |------------------------------------------------------------------------------------------------------------------------|\n",
      "#  |  888b     d888             888        888           8888888888                     888   d8b                           |\n",
      "#  |  8888b   d8888             888        888           888                            888   Y8P                           |\n",
      "#  |  88888b.d88888             888        888           888                            888                                 |\n",
      "#  |  888Y88888P888 .d88b.  .d88888888  888888 .d88b.    8888888888  88888888b.  .d8888b888888888 .d88b. 88888b. .d8888b    |\n",
      "#  |  888 Y888P 888d88\"\"88bd88\" 888888  888888d8P  Y8b   888    888  888888 \"88bd88P\"   888   888d88\"\"88b888 \"88b88K        |\n",
      "#  |  888  Y8P  888888  888888  888888  88888888888888   888    888  888888  888888     888   888888  888888  888\"Y8888b.   |\n",
      "#  |  888   \"   888Y88..88PY88b 888Y88b 888888Y8b.       888    Y88b 888888  888Y88b.   Y88b. 888Y88..88P888  888     X88   |\n",
      "#  |  888       888 \"Y88P\"  \"Y88888 \"Y88888888 \"Y8888    888     \"Y88888888  888 \"Y8888P \"Y888888 \"Y88P\" 888  888 88888P'   |\n",
      "#  |------------------------------------------------------------------------------------------------------------------------|\n",
      "#  |------------------------------------------------------------------------------------------------------------------------|\n",
      "#  +------------------------------------------------------------------------------------------------------------------------+\n",
      "88888888888888888888888888888888888888888888888888\n",
      "\n",
      "\n",
      "\n",
      "text_between_headings\n",
      "88888888888888888888888888888888888888888888888888\n",
      "\n",
      "88888888888888888888888888888888888888888888888888\n",
      "\n",
      "\n",
      "\n",
      "heading_text\n",
      "88888888888888888888888888888888888888888888888888\n",
      "#  +-----------------------------------------------------------------------------------------------------------+\n",
      "#  |-----------------------------------------------------------------------------------------------------------|\n",
      "#  |-----------------------------------------------------------------------------------------------------------|\n",
      "#  |                          888                            .d888                                    888      |\n",
      "#  |                          888                           d88P\"                                     888      |\n",
      "#  |                          888                           888                                       888      |\n",
      "#  |   .d8888b888  888.d8888b 888888 .d88b. 88888b.d88b.    888888 .d88b. 888d88888888b.d88b.  8888b. 888888   |\n",
      "#  |  d88P\"   888  88888K     888   d88\"\"88b888 \"888 \"88b   888   d88\"\"88b888P\"  888 \"888 \"88b    \"88b888      |\n",
      "#  |  888     888  888\"Y8888b.888   888  888888  888  888   888   888  888888    888  888  888.d888888888      |\n",
      "#  |  Y88b.   Y88b 888     X88Y88b. Y88..88P888  888  888   888   Y88..88P888    888  888  888888  888Y88b.    |\n",
      "#  |   \"Y8888P \"Y88888 88888P' \"Y888 \"Y88P\" 888  888  888   888    \"Y88P\" 888    888  888  888\"Y888888 \"Y888   |\n",
      "#  |-----------------------------------------------------------------------------------------------------------|\n",
      "#  |-----------------------------------------------------------------------------------------------------------|\n",
      "#  +-----------------------------------------------------------------------------------------------------------+\n",
      "88888888888888888888888888888888888888888888888888\n",
      "\n",
      "\n",
      "\n",
      "text_between_headings\n",
      "88888888888888888888888888888888888888888888888888\n",
      "class custom_format:\n",
      "    pass\n",
      "88888888888888888888888888888888888888888888888888\n",
      "\n",
      "\n",
      "\n",
      "class custom_format:\n",
      "    pass\n",
      "company_themes removed from development_mods.\n",
      "custom_format ++++++++++ {'shared attributes': {}}\n",
      "C:\\Users\\ssparling\\Data-Analysis\\Python-Projects\\Package-Developer\\development_mods\\company_themes.module\\module_directory.directory\n"
     ]
    }
   ],
   "source": [
    "# instantiating an instance of a class_developer object \n",
    "# pointed at a previously non-existent class in a non-existent module\n",
    "cd = class_developer('company_themes.custom_format', globals(), new=True)"
   ]
  },
  {
   "cell_type": "markdown",
   "id": "10bc5933",
   "metadata": {},
   "source": [
    "# Step 1: Save the image of the homepage"
   ]
  },
  {
   "cell_type": "code",
   "execution_count": 3,
   "id": "75523c92",
   "metadata": {},
   "outputs": [],
   "source": [
    "# Learning how to manipulate a chrome browser\n",
    "from selenium import webdriver\n",
    "from selenium.webdriver.chrome.options import Options as chrome_options"
   ]
  },
  {
   "cell_type": "code",
   "execution_count": 4,
   "id": "75411163",
   "metadata": {},
   "outputs": [],
   "source": [
    "driver = webdriver.Chrome(options = chrome_options().add_argument(\"--headless\"))"
   ]
  },
  {
   "cell_type": "code",
   "execution_count": 5,
   "id": "ab014278",
   "metadata": {},
   "outputs": [],
   "source": [
    "driver.get('https://www.geico.com/')"
   ]
  },
  {
   "cell_type": "code",
   "execution_count": 6,
   "id": "827ef365",
   "metadata": {},
   "outputs": [],
   "source": [
    "# screenshoting the landing page\n",
    "image = driver.get_screenshot_as_png"
   ]
  },
  {
   "cell_type": "code",
   "execution_count": 7,
   "id": "330dc766",
   "metadata": {},
   "outputs": [],
   "source": [
    "import extcolors"
   ]
  },
  {
   "cell_type": "code",
   "execution_count": 8,
   "id": "0952f45a",
   "metadata": {},
   "outputs": [
    {
     "name": "stdout",
     "output_type": "stream",
     "text": [
      "colors = [(55, 115, 203), (60, 130, 58), (229, 168, 97)]\n",
      "greys = [(34, 34, 34)]\n",
      "\u001b[38;2;55;115;203mhello\u001b[0m\n",
      "\u001b[38;2;60;130;58mhello\u001b[0m\n",
      "\u001b[38;2;229;168;97mhello\u001b[0m\n",
      "\u001b[38;2;34;34;34mhello\u001b[0m\n"
     ]
    }
   ],
   "source": [
    "# figuring out how to extract colors from screenshot\n",
    "colors = extcolors.extract_from_path('image.png', tolerance = 30, limit=8)\n",
    "x = 100\n",
    "greys = [tup for tup, count in colors[0] if (len(set(tup)) != 3) & (min(tup) < x)]\n",
    "colors = [tup for tup, count in colors[0] if (len(set(tup)) == 3) & (min(tup) < x)]\n",
    "\n",
    "print(f\"{colors = }\")\n",
    "print(f\"{greys = }\")\n",
    "\n",
    "\n",
    "def rgb_to_hex(rgb):\n",
    "    r, g, b = map(int, rgb)\n",
    "    return f'{r}x{g}x{b}x'\n",
    "\n",
    "for r, g, b in colors + greys:\n",
    "    print(f\"\\033[38;2;{r};{g};{b}m{'hello'}\\33[0m\")"
   ]
  },
  {
   "cell_type": "code",
   "execution_count": 9,
   "id": "06a55176",
   "metadata": {},
   "outputs": [
    {
     "data": {
      "text/plain": [
       "'\\x1b[38;2;34;34;34mhello\\x1b[0m'"
      ]
     },
     "execution_count": 9,
     "metadata": {},
     "output_type": "execute_result"
    }
   ],
   "source": [
    "# Richard asked about the actual string being printed\n",
    "f\"\\033[38;2;{r};{g};{b}m{'hello'}\\33[0m\""
   ]
  },
  {
   "cell_type": "code",
   "execution_count": 10,
   "id": "e8bb025e",
   "metadata": {},
   "outputs": [],
   "source": [
    "# importing some things\n",
    "from selenium import webdriver\n",
    "from selenium.webdriver.support.ui import WebDriverWait\n",
    "from selenium.webdriver.common.by import By as webdriver_by\n",
    "from selenium.webdriver.support import expected_conditions as EC\n",
    "\n",
    "import time"
   ]
  },
  {
   "cell_type": "markdown",
   "id": "b1cd2f8e",
   "metadata": {},
   "source": [
    "# Defining methods and committing to nested directories"
   ]
  },
  {
   "cell_type": "code",
   "execution_count": 11,
   "id": "dcb959f4",
   "metadata": {},
   "outputs": [
    {
     "name": "stdout",
     "output_type": "stream",
     "text": [
      "C:\\Users\\ssparling\\Data-Analysis\\Python-Projects\\Package-Developer\\development_mods\\company_themes.module\\module_directory.directory\n",
      "C:\\Users\\ssparling\\Data-Analysis\\Python-Projects\\Package-Developer\\development_mods\\company_themes.module\\module_directory.directory\n",
      "C:\\Users\\ssparling\\Data-Analysis\\Python-Projects\\Package-Developer\\development_mods\\company_themes.module\\module_directory.directory\n"
     ]
    },
    {
     "data": {
      "text/plain": [
       "<package_developer.class_developer at 0x1da6a3f78b0>"
      ]
     },
     "execution_count": 11,
     "metadata": {},
     "output_type": "execute_result"
    }
   ],
   "source": [
    "# defining a method to combine the things that I learned above\n",
    "def screenshot_homepage(self, website):\n",
    "    driver = webdriver.Chrome(options = chrome_options().add_argument(\"--headless\"))\n",
    "    if '.' not in website:\n",
    "        domains = ['com', 'org', 'gov', 'net', 'co', 'io']\n",
    "        for domain in domains:\n",
    "            try:\n",
    "                site_name = f\"https://www.{website}.{domain}\"\n",
    "                driver.get(site_name)\n",
    "                print(f'found site {site_name}')\n",
    "                break\n",
    "            except:\n",
    "                pass\n",
    "            assert False, \"couldn't find website, please input url directly\"\n",
    "    else:\n",
    "        driver.get(website)\n",
    "    # wait a few seconds\n",
    "    time.sleep(5)\n",
    "    # save screenshot of landing page\n",
    "    self.image_file = 'some-ridiculous-name-that-wont-clash-with-anything-else-asdkgjbenasdkgfhjasdf.png'\n",
    "    driver.get_screenshot_as_file(self.image_file)\n",
    "    print('screenshot saved')\n",
    "    return self\n",
    "\n",
    "def delete_image_file(self):\n",
    "    os.remove(self.image_file)\n",
    "    return self\n",
    "\n",
    "# committing both of the newly defined methods to the \"nested directory structure\"\n",
    "cd.add_module_imports('from selenium.webdriver.chrome.options import Options as chrome_options',\n",
    "                      'from selenium import webdriver', \n",
    "                      'import time', \n",
    "                      'import os'\n",
    "                     )\n",
    "\n",
    "cd.commit_method(screenshot_homepage)\n",
    "cd.commit_method(delete_image_file)"
   ]
  },
  {
   "cell_type": "markdown",
   "id": "ce72426b",
   "metadata": {},
   "source": [
    "# defining another method and committing"
   ]
  },
  {
   "cell_type": "code",
   "execution_count": 12,
   "id": "c1510180",
   "metadata": {},
   "outputs": [
    {
     "name": "stdout",
     "output_type": "stream",
     "text": [
      "C:\\Users\\ssparling\\Data-Analysis\\Python-Projects\\Package-Developer\\development_mods\\company_themes.module\\module_directory.directory\n",
      "C:\\Users\\ssparling\\Data-Analysis\\Python-Projects\\Package-Developer\\development_mods\\company_themes.module\\module_directory.directory\n"
     ]
    },
    {
     "data": {
      "text/plain": [
       "<package_developer.class_developer at 0x1da6a3f78b0>"
      ]
     },
     "execution_count": 12,
     "metadata": {},
     "output_type": "execute_result"
    }
   ],
   "source": [
    "def extract_colors(filename, n=5, tolerance=30, max_brightness = 100):\n",
    "    # we want to end up with n colors, but certain shades of gray will be removed\n",
    "    # therefore we will need to try a few different limits before we end up with n colors\n",
    "    limit = n\n",
    "    colors = []\n",
    "    while len(colors) < n:\n",
    "        print(f\"{len(colors) = }\")\n",
    "        colors = extcolors.extract_from_path(filename, limit=limit)\n",
    "        if limit < 2 * n:\n",
    "            colors = [tup for tup, count in colors[0] if (len(set(tup)) == 3) & (min(tup) < max_brightness)]\n",
    "        elif limit < 4 * n:\n",
    "            colors = [tup for tup, count in colors[0] if (len(set(tup)) == 3) & (min(tup) < max_brightness)]\n",
    "            tolerance = .85 * tolerance\n",
    "            max_brightness = 1.2 * max_brightness\n",
    "        else:\n",
    "            assert False, f\"could not find {n} colors\"\n",
    "            \n",
    "        limit += 1\n",
    "    print(f\"found {n} colors\")\n",
    "    return [f\"\\033[38;2;{r};{g};{b}m\" for r, g, b in colors]\n",
    "\n",
    "cd.add_module_imports('import extcolors')\n",
    "cd.commit_function(extract_colors)"
   ]
  },
  {
   "cell_type": "markdown",
   "id": "7a3960fe",
   "metadata": {},
   "source": [
    "# defining __init__ and adding some module Imports"
   ]
  },
  {
   "cell_type": "code",
   "execution_count": 13,
   "id": "290effa9",
   "metadata": {},
   "outputs": [
    {
     "name": "stdout",
     "output_type": "stream",
     "text": [
      "C:\\Users\\ssparling\\Data-Analysis\\Python-Projects\\Package-Developer\\development_mods\\company_themes.module\\module_directory.directory\n"
     ]
    },
    {
     "data": {
      "text/plain": [
       "<package_developer.class_developer at 0x1da6a3f78b0>"
      ]
     },
     "execution_count": 13,
     "metadata": {},
     "output_type": "execute_result"
    }
   ],
   "source": [
    "# defining an __init__ method\n",
    "def __init__(self, search_or_site, n=5, tolerance=30, max_brightness=100, ):\n",
    "    \"\"\"\n",
    "Scrapes the most fequent colors of of a website, and constructs custom print functions based on those colors.\n",
    "If search or site looks like a website ([https://]words.words.words) it will search that landing page.\n",
    "Otherwise it will try to find the page by looking for www.{search_or_site}.{domain} for a handful of domains\n",
    "    \"\"\"\n",
    "    self.screenshot_homepage(search_or_site)\n",
    "    self.colors = extract_colors(self.image_file, n=n, tolerance=tolerance, max_brightness=max_brightness)\n",
    "    self.delete_image_file()\n",
    "    \n",
    "cd.commit_init()"
   ]
  },
  {
   "cell_type": "markdown",
   "id": "fc82b6ec",
   "metadata": {},
   "source": [
    "# Testing class object"
   ]
  },
  {
   "cell_type": "code",
   "execution_count": 14,
   "id": "025866ce",
   "metadata": {},
   "outputs": [
    {
     "name": "stdout",
     "output_type": "stream",
     "text": [
      "found site https://www.geico.com\n",
      "screenshot saved\n",
      "len(colors) = 0\n",
      "len(colors) = 2\n",
      "len(colors) = 3\n",
      "len(colors) = 3\n",
      "len(colors) = 3\n",
      "len(colors) = 3\n",
      "len(colors) = 4\n",
      "found 5 colors\n"
     ]
    }
   ],
   "source": [
    "geico_format = custom_format('geico')"
   ]
  },
  {
   "cell_type": "code",
   "execution_count": 15,
   "id": "25f6d089",
   "metadata": {},
   "outputs": [
    {
     "data": {
      "text/plain": [
       "{'extract_colors': <function package_developer.extract_colors(filename, n=5, tolerance=30, max_brightness=100)>}"
      ]
     },
     "execution_count": 15,
     "metadata": {},
     "output_type": "execute_result"
    }
   ],
   "source": [
    "cd.module_functions()"
   ]
  },
  {
   "cell_type": "code",
   "execution_count": 16,
   "id": "ca5e986e",
   "metadata": {},
   "outputs": [
    {
     "data": {
      "text/plain": [
       "dict_keys(['custom_format', 'chrome_options', 'webdriver', 'time', 'os', 'extcolors', 'extract_colors'])"
      ]
     },
     "execution_count": 16,
     "metadata": {},
     "output_type": "execute_result"
    }
   ],
   "source": [
    "package_developer.pseudo_imported_names['company_themes.custom_format'].keys()"
   ]
  },
  {
   "cell_type": "code",
   "execution_count": 17,
   "id": "15c21fd2",
   "metadata": {},
   "outputs": [
    {
     "data": {
      "text/plain": [
       "['\\x1b[38;2;55;115;203m',\n",
       " '\\x1b[38;2;0;102;255m',\n",
       " '\\x1b[38;2;113;156;85m',\n",
       " '\\x1b[38;2;229;173;100m',\n",
       " '\\x1b[38;2;143;28;30m']"
      ]
     },
     "execution_count": 17,
     "metadata": {},
     "output_type": "execute_result"
    }
   ],
   "source": [
    "geico_format.colors"
   ]
  },
  {
   "cell_type": "code",
   "execution_count": 18,
   "id": "02c7c009",
   "metadata": {},
   "outputs": [
    {
     "name": "stdout",
     "output_type": "stream",
     "text": [
      "\u001b[38;2;55;115;203mHello\n",
      "\u001b[38;2;0;102;255mHello\n",
      "\u001b[38;2;113;156;85mHello\n",
      "\u001b[38;2;229;173;100mHello\n",
      "\u001b[38;2;143;28;30mHello\n"
     ]
    }
   ],
   "source": [
    "for color in geico_format.colors:\n",
    "    print(color + 'Hello')"
   ]
  },
  {
   "cell_type": "code",
   "execution_count": 19,
   "id": "bc6c3cf6",
   "metadata": {},
   "outputs": [
    {
     "name": "stdout",
     "output_type": "stream",
     "text": [
      "found site https://www.geico.com\n",
      "screenshot saved\n",
      "len(colors) = 0\n",
      "len(colors) = 4\n",
      "len(colors) = 4\n",
      "len(colors) = 5\n",
      "len(colors) = 5\n",
      "len(colors) = 6\n",
      "len(colors) = 7\n",
      "len(colors) = 7\n",
      "len(colors) = 7\n",
      "len(colors) = 8\n",
      "len(colors) = 9\n",
      "len(colors) = 9\n",
      "len(colors) = 9\n",
      "found 10 colors\n"
     ]
    }
   ],
   "source": [
    "# testing non-default n\n",
    "geico_format = custom_format('geico', n=10)"
   ]
  },
  {
   "cell_type": "code",
   "execution_count": 20,
   "id": "b0082c9a",
   "metadata": {},
   "outputs": [
    {
     "name": "stdout",
     "output_type": "stream",
     "text": [
      "\u001b[38;2;55;115;203mHello\n",
      "\u001b[38;2;0;102;255mHello\n",
      "\u001b[38;2;113;156;85mHello\n",
      "\u001b[38;2;250;201;143mHello\n",
      "\u001b[38;2;143;28;30mHello\n",
      "\u001b[38;2;200;141;30mHello\n",
      "\u001b[38;2;121;77;30mHello\n",
      "\u001b[38;2;164;73;149mHello\n",
      "\u001b[38;2;221;139;150mHello\n",
      "\u001b[38;2;120;68;80mHello\n",
      "\u001b[38;2;53;80;39mHello\n"
     ]
    }
   ],
   "source": [
    "for color in geico_format.colors:\n",
    "    print(color + 'Hello')"
   ]
  },
  {
   "cell_type": "markdown",
   "id": "639df9ad",
   "metadata": {},
   "source": [
    "# Testing again with wellsfargo"
   ]
  },
  {
   "cell_type": "code",
   "execution_count": 21,
   "id": "d138e825",
   "metadata": {},
   "outputs": [
    {
     "name": "stdout",
     "output_type": "stream",
     "text": [
      "found site https://www.wellsfargo.com\n",
      "screenshot saved\n",
      "len(colors) = 0\n",
      "len(colors) = 2\n",
      "len(colors) = 2\n",
      "len(colors) = 2\n",
      "len(colors) = 3\n",
      "len(colors) = 3\n",
      "len(colors) = 3\n",
      "len(colors) = 4\n",
      "found 5 colors\n"
     ]
    }
   ],
   "source": [
    "wells_fargo_format = custom_format('wellsfargo')"
   ]
  },
  {
   "cell_type": "markdown",
   "id": "9dce9ac4",
   "metadata": {},
   "source": [
    "# adding new functionality"
   ]
  },
  {
   "cell_type": "code",
   "execution_count": 22,
   "id": "bf1dcef4",
   "metadata": {},
   "outputs": [
    {
     "name": "stdout",
     "output_type": "stream",
     "text": [
      "C:\\Users\\ssparling\\Data-Analysis\\Python-Projects\\Package-Developer\\development_mods\\company_themes.module\\module_directory.directory\n"
     ]
    },
    {
     "data": {
      "text/plain": [
       "<package_developer.class_developer at 0x1da6a3f78b0>"
      ]
     },
     "execution_count": 22,
     "metadata": {},
     "output_type": "execute_result"
    }
   ],
   "source": [
    "def print_colors(self, text='Hello'):\n",
    "    for color in self.colors:\n",
    "        print(color + text)\n",
    "    return self\n",
    "\n",
    "cd.commit_method(print_colors)"
   ]
  },
  {
   "cell_type": "code",
   "execution_count": 23,
   "id": "9abcabd9",
   "metadata": {},
   "outputs": [
    {
     "name": "stdout",
     "output_type": "stream",
     "text": [
      "\u001b[38;2;215;30;40mHello\n",
      "\u001b[38;2;255;205;65mHello\n",
      "\u001b[38;2;234;136;141mHello\n",
      "\u001b[38;2;20;140;202mHello\n",
      "\u001b[38;2;172;98;20mHello\n",
      "\u001b[38;2;215;130;199mHello\n"
     ]
    },
    {
     "data": {
      "text/plain": [
       "<company_themes.custom_format at 0x1da6d89a130>"
      ]
     },
     "execution_count": 23,
     "metadata": {},
     "output_type": "execute_result"
    }
   ],
   "source": [
    "wells_fargo_format.print_colors()"
   ]
  },
  {
   "cell_type": "code",
   "execution_count": 24,
   "id": "9befadd0",
   "metadata": {},
   "outputs": [
    {
     "name": "stdout",
     "output_type": "stream",
     "text": [
      "found site https://www.amfam.com\n",
      "screenshot saved\n",
      "len(colors) = 0\n",
      "len(colors) = 3\n",
      "len(colors) = 3\n",
      "len(colors) = 4\n",
      "found 5 colors\n",
      "\u001b[38;2;0;61;165mHello\n",
      "\u001b[38;2;56;66;82mHello\n",
      "\u001b[38;2;56;43;0mHello\n",
      "\u001b[38;2;213;0;50mHello\n",
      "\u001b[38;2;82;122;190mHello\n"
     ]
    },
    {
     "data": {
      "text/plain": [
       "<company_themes.custom_format at 0x1da6d88d5b0>"
      ]
     },
     "execution_count": 24,
     "metadata": {},
     "output_type": "execute_result"
    }
   ],
   "source": [
    "amfam_format = custom_format('amfam')\n",
    "amfam_format.print_colors()"
   ]
  },
  {
   "cell_type": "markdown",
   "id": "144dda55",
   "metadata": {},
   "source": [
    "# changing a method"
   ]
  },
  {
   "cell_type": "code",
   "execution_count": 25,
   "id": "c7204ae2",
   "metadata": {},
   "outputs": [
    {
     "name": "stdout",
     "output_type": "stream",
     "text": [
      "def print_colors(self, text='Hello'):\n",
      "    for color in self.colors:\n",
      "        print(color + text)\n",
      "    return self\n",
      "\n"
     ]
    }
   ],
   "source": [
    "cd.get_method('print_colors')"
   ]
  },
  {
   "cell_type": "code",
   "execution_count": 26,
   "id": "f16feeda",
   "metadata": {},
   "outputs": [
    {
     "name": "stdout",
     "output_type": "stream",
     "text": [
      "C:\\Users\\ssparling\\Data-Analysis\\Python-Projects\\Package-Developer\\development_mods\\company_themes.module\\module_directory.directory\n"
     ]
    },
    {
     "data": {
      "text/plain": [
       "<package_developer.class_developer at 0x1da6a3f78b0>"
      ]
     },
     "execution_count": 26,
     "metadata": {},
     "output_type": "execute_result"
    }
   ],
   "source": [
    "def print_colors(self, text='Hello'):\n",
    "    for color in self.colors:\n",
    "        print(color + text + end_format)\n",
    "    return self\n",
    "\n",
    "cd.commit_method(print_colors)"
   ]
  },
  {
   "cell_type": "markdown",
   "id": "f3ae4d37",
   "metadata": {},
   "source": [
    "# adding some module attributes"
   ]
  },
  {
   "cell_type": "code",
   "execution_count": 27,
   "id": "a8e393fb",
   "metadata": {},
   "outputs": [
    {
     "name": "stdout",
     "output_type": "stream",
     "text": [
      "C:\\Users\\ssparling\\Data-Analysis\\Python-Projects\\Package-Developer\\development_mods\\company_themes.module\\module_directory.directory\n",
      "C:\\Users\\ssparling\\Data-Analysis\\Python-Projects\\Package-Developer\\development_mods\\company_themes.module\\module_directory.directory\n",
      "C:\\Users\\ssparling\\Data-Analysis\\Python-Projects\\Package-Developer\\development_mods\\company_themes.module\\module_directory.directory\n"
     ]
    },
    {
     "data": {
      "text/plain": [
       "<package_developer.class_developer at 0x1da6a3f78b0>"
      ]
     },
     "execution_count": 27,
     "metadata": {},
     "output_type": "execute_result"
    }
   ],
   "source": [
    "cd.add_module_attribute('end_format', \"'\\033[0m'\")\n",
    "cd.add_module_attribute('bold', \"'\\033[1m'\")\n",
    "cd.add_module_attribute('underline', \"'\\033[4m'\")"
   ]
  },
  {
   "cell_type": "code",
   "execution_count": 28,
   "id": "557d945d",
   "metadata": {},
   "outputs": [
    {
     "name": "stdout",
     "output_type": "stream",
     "text": [
      "\u001b[38;2;215;30;40mHello\u001b[0m\n",
      "\u001b[38;2;255;205;65mHello\u001b[0m\n",
      "\u001b[38;2;234;136;141mHello\u001b[0m\n",
      "\u001b[38;2;20;140;202mHello\u001b[0m\n",
      "\u001b[38;2;172;98;20mHello\u001b[0m\n",
      "\u001b[38;2;215;130;199mHello\u001b[0m\n"
     ]
    },
    {
     "data": {
      "text/plain": [
       "<company_themes.custom_format at 0x1da6d89a130>"
      ]
     },
     "execution_count": 28,
     "metadata": {},
     "output_type": "execute_result"
    }
   ],
   "source": [
    "#geico_format.print_colors()\n",
    "wells_fargo_format.print_colors()"
   ]
  },
  {
   "cell_type": "code",
   "execution_count": 29,
   "id": "850ff44b",
   "metadata": {},
   "outputs": [
    {
     "data": {
      "text/plain": [
       "['\\x1b[38;2;0;61;165m',\n",
       " '\\x1b[38;2;56;66;82m',\n",
       " '\\x1b[38;2;56;43;0m',\n",
       " '\\x1b[38;2;213;0;50m',\n",
       " '\\x1b[38;2;82;122;190m']"
      ]
     },
     "execution_count": 29,
     "metadata": {},
     "output_type": "execute_result"
    }
   ],
   "source": [
    "amfam_format.colors"
   ]
  },
  {
   "cell_type": "markdown",
   "id": "dc76a17f",
   "metadata": {},
   "source": [
    "# new functionality"
   ]
  },
  {
   "cell_type": "code",
   "execution_count": 30,
   "id": "8b613fba",
   "metadata": {},
   "outputs": [
    {
     "name": "stdout",
     "output_type": "stream",
     "text": [
      "C:\\Users\\ssparling\\Data-Analysis\\Python-Projects\\Package-Developer\\development_mods\\company_themes.module\\module_directory.directory\n"
     ]
    },
    {
     "data": {
      "text/plain": [
       "<package_developer.class_developer at 0x1da6a3f78b0>"
      ]
     },
     "execution_count": 30,
     "metadata": {},
     "output_type": "execute_result"
    }
   ],
   "source": [
    "def reset_palette(self, search_or_site, n=5, tolerance=30, max_brightness=100, ):\n",
    "    \"\"\"\n",
    "Scrapes the most fequent colors of of a website, and constructs custom print functions based on those colors.\n",
    "If search or site looks like a website ([https://]words.words.words) it will search that landing page.\n",
    "If it is a search page it will scrape from the first non-add return from google.\n",
    "    \"\"\"\n",
    "    self.screenshot_homepage(search_or_site)\n",
    "    self.colors = extract_colors(self.image_file, n=n, tolerance=tolerance, max_brightness=max_brightness)\n",
    "    self.delete_image_file()\n",
    "    return self\n",
    "\n",
    "cd.commit_method(reset_palette)"
   ]
  },
  {
   "cell_type": "code",
   "execution_count": 31,
   "id": "fc5b8309",
   "metadata": {},
   "outputs": [
    {
     "name": "stdout",
     "output_type": "stream",
     "text": [
      "C:\\Users\\ssparling\\Data-Analysis\\Python-Projects\\Package-Developer\\development_mods\\company_themes.module\\module_directory.directory\n"
     ]
    },
    {
     "data": {
      "text/plain": [
       "<package_developer.class_developer at 0x1da6a3f78b0>"
      ]
     },
     "execution_count": 31,
     "metadata": {},
     "output_type": "execute_result"
    }
   ],
   "source": [
    "def text(self, text):\n",
    "    self.__text__ = text\n",
    "    return self\n",
    "\n",
    "cd.commit_method(text)"
   ]
  },
  {
   "cell_type": "code",
   "execution_count": 32,
   "id": "4929e8ca",
   "metadata": {},
   "outputs": [
    {
     "data": {
      "text/plain": [
       "<company_themes.custom_format at 0x1da6d88d5b0>"
      ]
     },
     "execution_count": 32,
     "metadata": {},
     "output_type": "execute_result"
    }
   ],
   "source": [
    "amfam_format.text('This is an important title...uncapitalized for some reason')"
   ]
  },
  {
   "cell_type": "code",
   "execution_count": 33,
   "id": "f5511e35",
   "metadata": {},
   "outputs": [
    {
     "data": {
      "text/plain": [
       "<company_themes.custom_format at 0x1da6d894fa0>"
      ]
     },
     "execution_count": 33,
     "metadata": {},
     "output_type": "execute_result"
    }
   ],
   "source": [
    "geico_format.text('This is an important title...uncapitalized for some reason')"
   ]
  },
  {
   "cell_type": "code",
   "execution_count": 34,
   "id": "ed8be685",
   "metadata": {},
   "outputs": [
    {
     "name": "stdout",
     "output_type": "stream",
     "text": [
      "def print_colors(self, text='Hello'):\n",
      "    for color in self.colors:\n",
      "        print(color + text + end_format)\n",
      "    return self\n",
      "\n"
     ]
    }
   ],
   "source": [
    "cd.get_method('print_colors')"
   ]
  },
  {
   "cell_type": "code",
   "execution_count": 35,
   "id": "ef2a31e1",
   "metadata": {},
   "outputs": [
    {
     "name": "stdout",
     "output_type": "stream",
     "text": [
      "C:\\Users\\ssparling\\Data-Analysis\\Python-Projects\\Package-Developer\\development_mods\\company_themes.module\\module_directory.directory\n"
     ]
    },
    {
     "data": {
      "text/plain": [
       "<package_developer.class_developer at 0x1da6a3f78b0>"
      ]
     },
     "execution_count": 35,
     "metadata": {},
     "output_type": "execute_result"
    }
   ],
   "source": [
    "def print_colors(self, text=None):\n",
    "    if (text == None) & hasattr(self, '__text__'):\n",
    "        text = self.__text__\n",
    "    elif text == None:\n",
    "        text = 'Hello'\n",
    "    for color in self.colors:\n",
    "        print(color + text + end_format)\n",
    "    return self\n",
    "\n",
    "cd.commit_method(print_colors)"
   ]
  },
  {
   "cell_type": "markdown",
   "id": "18b79c79",
   "metadata": {},
   "source": [
    "# testing print_colors on pre-existing object"
   ]
  },
  {
   "cell_type": "code",
   "execution_count": 36,
   "id": "10aa8bbd",
   "metadata": {},
   "outputs": [
    {
     "name": "stdout",
     "output_type": "stream",
     "text": [
      "\u001b[38;2;55;115;203mThis is an important title...uncapitalized for some reason\u001b[0m\n",
      "\u001b[38;2;0;102;255mThis is an important title...uncapitalized for some reason\u001b[0m\n",
      "\u001b[38;2;113;156;85mThis is an important title...uncapitalized for some reason\u001b[0m\n",
      "\u001b[38;2;250;201;143mThis is an important title...uncapitalized for some reason\u001b[0m\n",
      "\u001b[38;2;143;28;30mThis is an important title...uncapitalized for some reason\u001b[0m\n",
      "\u001b[38;2;200;141;30mThis is an important title...uncapitalized for some reason\u001b[0m\n",
      "\u001b[38;2;121;77;30mThis is an important title...uncapitalized for some reason\u001b[0m\n",
      "\u001b[38;2;164;73;149mThis is an important title...uncapitalized for some reason\u001b[0m\n",
      "\u001b[38;2;221;139;150mThis is an important title...uncapitalized for some reason\u001b[0m\n",
      "\u001b[38;2;120;68;80mThis is an important title...uncapitalized for some reason\u001b[0m\n",
      "\u001b[38;2;53;80;39mThis is an important title...uncapitalized for some reason\u001b[0m\n"
     ]
    },
    {
     "data": {
      "text/plain": [
       "<company_themes.custom_format at 0x1da6d894fa0>"
      ]
     },
     "execution_count": 36,
     "metadata": {},
     "output_type": "execute_result"
    }
   ],
   "source": [
    "geico_format.print_colors()"
   ]
  },
  {
   "cell_type": "code",
   "execution_count": 37,
   "id": "eca2eb6e",
   "metadata": {},
   "outputs": [
    {
     "data": {
      "text/plain": [
       "'company_themes'"
      ]
     },
     "execution_count": 37,
     "metadata": {},
     "output_type": "execute_result"
    }
   ],
   "source": [
    "# target_module at which class_developer object is pointed\n",
    "cd.target_module.__name__"
   ]
  },
  {
   "cell_type": "code",
   "execution_count": 38,
   "id": "3fa10ed7",
   "metadata": {},
   "outputs": [
    {
     "data": {
      "text/plain": [
       "{'extract_colors': <function package_developer.extract_colors(filename, n=5, tolerance=30, max_brightness=100)>}"
      ]
     },
     "execution_count": 38,
     "metadata": {},
     "output_type": "execute_result"
    }
   ],
   "source": [
    "# returns a list of functions defined in your module\n",
    "cd.module_functions()\n",
    "\n",
    "# also see methods(), method_groups(), function_groups(), and more"
   ]
  },
  {
   "cell_type": "code",
   "execution_count": 39,
   "id": "0d21974a",
   "metadata": {},
   "outputs": [
    {
     "data": {
      "text/plain": [
       "<function package_developer.extract_colors(filename, n=5, tolerance=30, max_brightness=100)>"
      ]
     },
     "execution_count": 39,
     "metadata": {},
     "output_type": "execute_result"
    }
   ],
   "source": [
    "cd.target_module.extract_colors"
   ]
  },
  {
   "cell_type": "markdown",
   "id": "cc80ff0d",
   "metadata": {},
   "source": [
    "# testing module_imports on pre-existing object"
   ]
  },
  {
   "cell_type": "code",
   "execution_count": 40,
   "id": "7c66f231",
   "metadata": {},
   "outputs": [
    {
     "name": "stdout",
     "output_type": "stream",
     "text": [
      "C:\\Users\\ssparling\\Data-Analysis\\Python-Projects\\Package-Developer\\development_mods\\company_themes.module\\module_directory.directory\n",
      "C:\\Users\\ssparling\\Data-Analysis\\Python-Projects\\Package-Developer\\development_mods\\company_themes.module\\module_directory.directory\n"
     ]
    },
    {
     "data": {
      "text/plain": [
       "<package_developer.class_developer at 0x1da6a3f78b0>"
      ]
     },
     "execution_count": 40,
     "metadata": {},
     "output_type": "execute_result"
    }
   ],
   "source": [
    "# a useless function to test the functionality of\n",
    "  # adding an import and then using an existing instance of the class \n",
    "def return_nan(self):\n",
    "    return np.nan\n",
    "\n",
    "cd.add_module_imports('import numpy as np')\n",
    "cd.commit_method(return_nan)"
   ]
  },
  {
   "cell_type": "code",
   "execution_count": 41,
   "id": "c3fb46e2",
   "metadata": {},
   "outputs": [],
   "source": [
    "# adding the import\n"
   ]
  },
  {
   "cell_type": "code",
   "execution_count": 42,
   "id": "c6579912",
   "metadata": {},
   "outputs": [
    {
     "data": {
      "text/plain": [
       "nan"
      ]
     },
     "execution_count": 42,
     "metadata": {},
     "output_type": "execute_result"
    }
   ],
   "source": [
    "# testing the function requiring the import\n",
    "geico_format.return_nan()"
   ]
  },
  {
   "cell_type": "markdown",
   "id": "0489e259",
   "metadata": {},
   "source": [
    "# Adding high level functionality"
   ]
  },
  {
   "cell_type": "code",
   "execution_count": 43,
   "id": "97d0d6e2",
   "metadata": {},
   "outputs": [
    {
     "name": "stdout",
     "output_type": "stream",
     "text": [
      "C:\\Users\\ssparling\\Data-Analysis\\Python-Projects\\Package-Developer\\development_mods\\company_themes.module\\module_directory.directory\n",
      "C:\\Users\\ssparling\\Data-Analysis\\Python-Projects\\Package-Developer\\development_mods\\company_themes.module\\module_directory.directory\n",
      "C:\\Users\\ssparling\\Data-Analysis\\Python-Projects\\Package-Developer\\development_mods\\company_themes.module\\module_directory.directory\n"
     ]
    }
   ],
   "source": [
    "def bold(self, bold=True):\n",
    "    self.__bold__ = bold\n",
    "    return self\n",
    "\n",
    "def underline(self, underline=True):\n",
    "    self.__underline__ = underline\n",
    "    return self\n",
    "\n",
    "def color(self, n=1):\n",
    "    if n in {None, 0, False}:\n",
    "        self.__color__ = False\n",
    "    else:\n",
    "        self.__color__ = n\n",
    "    return self\n",
    "\n",
    "for m in {bold, underline, color}:\n",
    "    cd.commit_method(m)"
   ]
  },
  {
   "cell_type": "code",
   "execution_count": 44,
   "id": "f84dea8e",
   "metadata": {},
   "outputs": [
    {
     "name": "stdout",
     "output_type": "stream",
     "text": [
      "def text(self, text):\n",
      "    self.__text__ = text\n",
      "    return self\n",
      "\n"
     ]
    }
   ],
   "source": [
    "cd.get_method('text')"
   ]
  },
  {
   "cell_type": "code",
   "execution_count": 45,
   "id": "d7c24724",
   "metadata": {},
   "outputs": [
    {
     "name": "stdout",
     "output_type": "stream",
     "text": [
      "C:\\Users\\ssparling\\Data-Analysis\\Python-Projects\\Package-Developer\\development_mods\\company_themes.module\\module_directory.directory\n"
     ]
    },
    {
     "data": {
      "text/plain": [
       "<package_developer.class_developer at 0x1da6a3f78b0>"
      ]
     },
     "execution_count": 45,
     "metadata": {},
     "output_type": "execute_result"
    }
   ],
   "source": [
    "def text(self, text, bold=False, underline=False, color=0):\n",
    "    self.__text__ = text\n",
    "    self.__bold__ = bold\n",
    "    self.__underline__ = underline\n",
    "    self.__color__ = color\n",
    "    return self\n",
    "\n",
    "cd.commit_method(text)"
   ]
  },
  {
   "cell_type": "code",
   "execution_count": 46,
   "id": "ef01434c",
   "metadata": {},
   "outputs": [
    {
     "name": "stdout",
     "output_type": "stream",
     "text": [
      "C:\\Users\\ssparling\\Data-Analysis\\Python-Projects\\Package-Developer\\development_mods\\company_themes.module\\module_directory.directory\n"
     ]
    },
    {
     "data": {
      "text/plain": [
       "<package_developer.class_developer at 0x1da6a3f78b0>"
      ]
     },
     "execution_count": 46,
     "metadata": {},
     "output_type": "execute_result"
    }
   ],
   "source": [
    "def title(self, n=1):\n",
    "    self.__text__ = f\"__{self.__text__}__\"\n",
    "    return self.bold().underline().color(n)\n",
    "\n",
    "cd.commit_method(title)"
   ]
  },
  {
   "cell_type": "markdown",
   "id": "6e060ef2",
   "metadata": {},
   "source": [
    "# defining __str__"
   ]
  },
  {
   "cell_type": "code",
   "execution_count": 47,
   "id": "ae7e7859",
   "metadata": {},
   "outputs": [
    {
     "name": "stdout",
     "output_type": "stream",
     "text": [
      "C:\\Users\\ssparling\\Data-Analysis\\Python-Projects\\Package-Developer\\development_mods\\company_themes.module\\module_directory.directory\n"
     ]
    },
    {
     "data": {
      "text/plain": [
       "<package_developer.class_developer at 0x1da6a3f78b0>"
      ]
     },
     "execution_count": 47,
     "metadata": {},
     "output_type": "execute_result"
    }
   ],
   "source": [
    "def __str__(self):\n",
    "    if self.__bold__:\n",
    "        _bold = bold\n",
    "    else:\n",
    "        _bold = ''\n",
    "    #---------------\n",
    "    if self.__underline__:\n",
    "        _underline = underline\n",
    "    else:\n",
    "        _underline = ''\n",
    "    #---------------\n",
    "    if self.__color__ == False:\n",
    "        _color = ''\n",
    "    else:\n",
    "        _color = self.colors[self.__color__-1]\n",
    "    return _bold + _underline + _color + self.__text__ + end_format\n",
    "\n",
    "cd.commit_str()"
   ]
  },
  {
   "cell_type": "markdown",
   "id": "21e518a8",
   "metadata": {},
   "source": [
    "# Testing High Level Functionality"
   ]
  },
  {
   "cell_type": "code",
   "execution_count": 48,
   "id": "b3d4d92b",
   "metadata": {},
   "outputs": [
    {
     "name": "stdout",
     "output_type": "stream",
     "text": [
      "Hello Richard!!!\u001b[0m\n"
     ]
    }
   ],
   "source": [
    "print(geico_format.text('Hello Richard!!!'))"
   ]
  },
  {
   "cell_type": "code",
   "execution_count": 49,
   "id": "0053b6cc",
   "metadata": {},
   "outputs": [
    {
     "name": "stdout",
     "output_type": "stream",
     "text": [
      "\u001b[1mHello Richard!!!\u001b[0m\n"
     ]
    }
   ],
   "source": [
    "print(geico_format.text('Hello Richard!!!').bold())"
   ]
  },
  {
   "cell_type": "code",
   "execution_count": 50,
   "id": "553371cc",
   "metadata": {},
   "outputs": [
    {
     "name": "stdout",
     "output_type": "stream",
     "text": [
      "\u001b[4mHello Richard!!!\u001b[0m\n"
     ]
    }
   ],
   "source": [
    "print(geico_format.text('Hello Richard!!!').underline())"
   ]
  },
  {
   "cell_type": "code",
   "execution_count": 51,
   "id": "e6cf3766",
   "metadata": {},
   "outputs": [
    {
     "name": "stdout",
     "output_type": "stream",
     "text": [
      "\u001b[38;2;55;115;203mHello Richard!!!\u001b[0m\n"
     ]
    }
   ],
   "source": [
    "print(geico_format.text('Hello Richard!!!').color(1))"
   ]
  },
  {
   "cell_type": "code",
   "execution_count": 52,
   "id": "d19a3caa",
   "metadata": {},
   "outputs": [
    {
     "name": "stdout",
     "output_type": "stream",
     "text": [
      "\u001b[38;2;215;30;40mHello Richard!!!\u001b[0m\n"
     ]
    }
   ],
   "source": [
    "print(wells_fargo_format.text('Hello Richard!!!').color(1))"
   ]
  },
  {
   "cell_type": "code",
   "execution_count": 53,
   "id": "b5e6e911",
   "metadata": {},
   "outputs": [
    {
     "name": "stdout",
     "output_type": "stream",
     "text": [
      "\u001b[1m\u001b[4m\u001b[38;2;215;30;40m__Hello Richard!!!__\u001b[0m\n",
      "\u001b[1m\u001b[4m\u001b[38;2;255;205;65m____Hello Richard!!!____\u001b[0m\n",
      "\u001b[1m\u001b[4m\u001b[38;2;234;136;141m______Hello Richard!!!______\u001b[0m\n",
      "\u001b[1m\u001b[4m\u001b[38;2;20;140;202m________Hello Richard!!!________\u001b[0m\n",
      "\u001b[1m\u001b[4m\u001b[38;2;172;98;20m__________Hello Richard!!!__________\u001b[0m\n",
      "\u001b[1m\u001b[4m\u001b[38;2;215;130;199m____________Hello Richard!!!____________\u001b[0m\n"
     ]
    }
   ],
   "source": [
    "#geico_format = custom_format('geico').text('Hello Richard!!!')\n",
    "for n in range(len(wells_fargo_format.colors)):\n",
    "    print(wells_fargo_format.title(n+1))"
   ]
  },
  {
   "cell_type": "code",
   "execution_count": 54,
   "id": "a9af57af",
   "metadata": {},
   "outputs": [
    {
     "name": "stdout",
     "output_type": "stream",
     "text": [
      "def title(self, n=1):\n",
      "    self.__text__ = f\"__{self.__text__}__\"\n",
      "    return self.bold().underline().color(n)\n",
      "\n"
     ]
    }
   ],
   "source": [
    "# we are inadvertently adding underscores when calling title. I'll need to adjust that\n",
    "cd.get_method('title')"
   ]
  },
  {
   "cell_type": "code",
   "execution_count": 55,
   "id": "f4133828",
   "metadata": {},
   "outputs": [
    {
     "name": "stdout",
     "output_type": "stream",
     "text": [
      "C:\\Users\\ssparling\\Data-Analysis\\Python-Projects\\Package-Developer\\development_mods\\company_themes.module\\module_directory.directory\n",
      "\u001b[1m\u001b[4m\u001b[38;2;215;30;40m__Hello Richard__\u001b[0m\n",
      "\u001b[1m\u001b[4m\u001b[38;2;255;205;65m__Hello Richard__\u001b[0m\n",
      "\u001b[1m\u001b[4m\u001b[38;2;234;136;141m__Hello Richard__\u001b[0m\n",
      "\u001b[1m\u001b[4m\u001b[38;2;20;140;202m__Hello Richard__\u001b[0m\n",
      "\u001b[1m\u001b[4m\u001b[38;2;172;98;20m__Hello Richard__\u001b[0m\n",
      "\u001b[1m\u001b[4m\u001b[38;2;215;130;199m__Hello Richard__\u001b[0m\n"
     ]
    }
   ],
   "source": [
    "# correcting title\n",
    "def title(self, n=1):\n",
    "    # if not already surrounded by underscores\n",
    "    if self.__text__[:2] + self.__text__[-2:] != '____':\n",
    "        self.__text__ = f\"__{self.__text__}__\"\n",
    "    return self.bold().underline().color(n)\n",
    "\n",
    "cd.commit_method(title)\n",
    "\n",
    "# retesting the thing that was not working as expected\n",
    "wells_fargo_format.text('Hello Richard')\n",
    "for n in range(len(wells_fargo_format.colors)):\n",
    "    print(wells_fargo_format.title(n+1))"
   ]
  },
  {
   "cell_type": "code",
   "execution_count": 56,
   "id": "5a5eec37",
   "metadata": {},
   "outputs": [
    {
     "name": "stdout",
     "output_type": "stream",
     "text": [
      "\u001b[1m\u001b[38;2;53;80;39m'\\x1b[1m\\x1b[38;2;53;80;39mHello Mitchell!!!\\x1b[0m'\u001b[0m\n",
      "\u001b[1m\u001b[38;2;120;68;80m'\\x1b[1m\\x1b[38;2;120;68;80mHello Mitchell!!!\\x1b[0m'\u001b[0m\n",
      "\u001b[1m\u001b[38;2;221;139;150m'\\x1b[1m\\x1b[38;2;221;139;150mHello Mitchell!!!\\x1b[0m'\u001b[0m\n",
      "\u001b[1m\u001b[38;2;164;73;149m'\\x1b[1m\\x1b[38;2;164;73;149mHello Mitchell!!!\\x1b[0m'\u001b[0m\n",
      "\u001b[1m\u001b[38;2;121;77;30m'\\x1b[1m\\x1b[38;2;121;77;30mHello Mitchell!!!\\x1b[0m'\u001b[0m\n",
      "\u001b[1m\u001b[38;2;200;141;30m'\\x1b[1m\\x1b[38;2;200;141;30mHello Mitchell!!!\\x1b[0m'\u001b[0m\n",
      "\u001b[1m\u001b[38;2;143;28;30m'\\x1b[1m\\x1b[38;2;143;28;30mHello Mitchell!!!\\x1b[0m'\u001b[0m\n",
      "\u001b[1m\u001b[38;2;250;201;143m'\\x1b[1m\\x1b[38;2;250;201;143mHello Mitchell!!!\\x1b[0m'\u001b[0m\n",
      "\u001b[1m\u001b[38;2;113;156;85m'\\x1b[1m\\x1b[38;2;113;156;85mHello Mitchell!!!\\x1b[0m'\u001b[0m\n",
      "\u001b[1m\u001b[38;2;0;102;255m'\\x1b[1m\\x1b[38;2;0;102;255mHello Mitchell!!!\\x1b[0m'\u001b[0m\n",
      "\u001b[1m\u001b[38;2;55;115;203m'\\x1b[1m\\x1b[38;2;55;115;203mHello Mitchell!!!\\x1b[0m'\u001b[0m\n"
     ]
    }
   ],
   "source": [
    "for n in range(len(geico_format.colors))[::-1]:\n",
    "    n += 1\n",
    "    print(geico_format.text(geico_format.text('Hello Mitchell!!!').color(n).bold().__str__().__repr__()).color(n).bold())"
   ]
  },
  {
   "cell_type": "code",
   "execution_count": 57,
   "id": "bb87953e",
   "metadata": {},
   "outputs": [
    {
     "name": "stdout",
     "output_type": "stream",
     "text": [
      "C:\\Users\\ssparling\\Data-Analysis\\Python-Projects\\Package-Developer\\development_mods\\company_themes.module\\module_directory.directory\n"
     ]
    },
    {
     "data": {
      "text/plain": [
       "<package_developer.class_developer at 0x1da6a3f78b0>"
      ]
     },
     "execution_count": 57,
     "metadata": {},
     "output_type": "execute_result"
    }
   ],
   "source": [
    "# defining __repr__ such that I don't have to call print() every time\n",
    "def __repr__(self):\n",
    "    return str(self)\n",
    "\n",
    "cd.commit_repr()"
   ]
  },
  {
   "cell_type": "code",
   "execution_count": 58,
   "id": "446ce00e",
   "metadata": {},
   "outputs": [
    {
     "data": {
      "text/plain": [
       "\u001b[1m\u001b[4m\u001b[38;2;0;102;255m__Hello world__\u001b[0m"
      ]
     },
     "execution_count": 58,
     "metadata": {},
     "output_type": "execute_result"
    }
   ],
   "source": [
    "geico_format.text('Hello world').title(2)"
   ]
  },
  {
   "cell_type": "markdown",
   "id": "0e506c5e",
   "metadata": {},
   "source": [
    "# Adding some text block"
   ]
  },
  {
   "cell_type": "code",
   "execution_count": 59,
   "id": "3c8866f2",
   "metadata": {},
   "outputs": [
    {
     "name": "stdout",
     "output_type": "stream",
     "text": [
      "def __init__(self, search_or_site, n=5, tolerance=30, max_brightness=100, ):\n",
      "    \"\"\"\n",
      "Scrapes the most fequent colors of of a website, and constructs custom print functions based on those colors.\n",
      "If search or site looks like a website ([https://]words.words.words) it will search that landing page.\n",
      "Otherwise it will try to find the page by looking for www.{search_or_site}.{domain} for a handful of domains\n",
      "    \"\"\"\n",
      "    self.screenshot_homepage(search_or_site)\n",
      "    self.colors = extract_colors(self.image_file, n=n, tolerance=tolerance, max_brightness=max_brightness)\n",
      "    self.delete_image_file()\n",
      "\n"
     ]
    }
   ],
   "source": [
    "cd.get_init()"
   ]
  },
  {
   "cell_type": "code",
   "execution_count": 60,
   "id": "0bce14ef",
   "metadata": {},
   "outputs": [],
   "source": [
    "def __init__(self, search_or_site, n=5, tolerance=30, max_brightness=100, ):\n",
    "    \"\"\"\n",
    "Scrapes the most fequent colors of of a website, and constructs custom print functions based on those colors.\n",
    "If search or site looks like a website ([https://]words.words.words) it will search that landing page.\n",
    "If it is a search page it will scrape from the first non-add return from google.\n",
    "    \"\"\"\n",
    "    self.screenshot_homepage(search_or_site)\n",
    "    self.colors = extract_colors(self.image_file, n=n, tolerance=tolerance, max_brightness=max_brightness)\n",
    "    self.delete_image_file()\n"
   ]
  },
  {
   "cell_type": "code",
   "execution_count": 61,
   "id": "1d72d36e",
   "metadata": {},
   "outputs": [
    {
     "name": "stdout",
     "output_type": "stream",
     "text": [
      "C:\\Users\\ssparling\\Data-Analysis\\Python-Projects\\Package-Developer\\development_mods\\company_themes.module\\module_directory.directory\n"
     ]
    },
    {
     "data": {
      "text/plain": [
       "<package_developer.class_developer at 0x1da6a3f78b0>"
      ]
     },
     "execution_count": 61,
     "metadata": {},
     "output_type": "execute_result"
    }
   ],
   "source": [
    "cd.commit_init()"
   ]
  },
  {
   "cell_type": "code",
   "execution_count": 62,
   "id": "f4759b13",
   "metadata": {},
   "outputs": [
    {
     "name": "stdout",
     "output_type": "stream",
     "text": [
      "found site https://www.geico.com\n",
      "screenshot saved\n",
      "len(colors) = 0\n",
      "len(colors) = 2\n",
      "len(colors) = 3\n",
      "len(colors) = 3\n",
      "len(colors) = 3\n",
      "len(colors) = 3\n",
      "len(colors) = 4\n",
      "found 5 colors\n"
     ]
    }
   ],
   "source": [
    "geico_format = custom_format('geico')"
   ]
  },
  {
   "cell_type": "code",
   "execution_count": 63,
   "id": "96b82fdd",
   "metadata": {},
   "outputs": [
    {
     "data": {
      "text/plain": [
       "5"
      ]
     },
     "execution_count": 63,
     "metadata": {},
     "output_type": "execute_result"
    }
   ],
   "source": [
    "len(geico_format.colors)"
   ]
  },
  {
   "cell_type": "code",
   "execution_count": 64,
   "id": "e1fed545",
   "metadata": {},
   "outputs": [
    {
     "name": "stdout",
     "output_type": "stream",
     "text": [
      "def extract_colors(filename, n=5, tolerance=30, max_brightness = 100):\n",
      "    # we want to end up with n colors, but certain shades of gray will be removed\n",
      "    # therefore we will need to try a few different limits before we end up with n colors\n",
      "    limit = n\n",
      "    colors = []\n",
      "    while len(colors) < n:\n",
      "        print(f\"{len(colors) = }\")\n",
      "        colors = extcolors.extract_from_path(filename, limit=limit)\n",
      "        if limit < 2 * n:\n",
      "            colors = [tup for tup, count in colors[0] if (len(set(tup)) == 3) & (min(tup) < max_brightness)]\n",
      "        elif limit < 4 * n:\n",
      "            colors = [tup for tup, count in colors[0] if (len(set(tup)) == 3) & (min(tup) < max_brightness)]\n",
      "            tolerance = .85 * tolerance\n",
      "            max_brightness = 1.2 * max_brightness\n",
      "        else:\n",
      "            assert False, f\"could not find {n} colors\"\n",
      "            \n",
      "        limit += 1\n",
      "    print(f\"found {n} colors\")\n",
      "    return [f\"\\033[38;2;{r};{g};{b}m\" for r, g, b in colors]\n",
      "\n"
     ]
    }
   ],
   "source": [
    "cd.get_function('extract_colors')"
   ]
  },
  {
   "cell_type": "code",
   "execution_count": 65,
   "id": "25518631",
   "metadata": {},
   "outputs": [],
   "source": [
    "def extract_colors(filename, n=5, tolerance=30, max_brightness = 100):\n",
    "    # we want to end up with n colors, but certain shades of gray will be removed\n",
    "    # therefore we will need to try a few different limits before we end up with n colors\n",
    "    limit = n\n",
    "    colors = []\n",
    "    while len(colors) < n:\n",
    "        print(f\"{len(colors) = }\")\n",
    "        colors = extcolors.extract_from_path(filename, limit=limit)\n",
    "        if limit < 2 * n:\n",
    "            colors = [tup for tup, count in colors[0] if (len(set(tup)) == 3) & (min(tup) < max_brightness)]\n",
    "        elif limit < 4 * n:\n",
    "            colors = [tup for tup, count in colors[0] if (len(set(tup)) == 3) & (min(tup) < max_brightness)]\n",
    "            tolerance = .85 * tolerance\n",
    "            max_brightness = 1.2 * max_brightness\n",
    "        else:\n",
    "            assert False, f\"could not find {n} colors\"\n",
    "            \n",
    "        limit += 1\n",
    "    print(f\"found {len(colors)} colors\")\n",
    "    return [f\"\\033[38;2;{r};{g};{b}m\" for r, g, b in colors]"
   ]
  },
  {
   "cell_type": "code",
   "execution_count": 66,
   "id": "4107831d",
   "metadata": {},
   "outputs": [
    {
     "name": "stdout",
     "output_type": "stream",
     "text": [
      "C:\\Users\\ssparling\\Data-Analysis\\Python-Projects\\Package-Developer\\development_mods\\company_themes.module\\module_directory.directory\n"
     ]
    },
    {
     "data": {
      "text/plain": [
       "<package_developer.class_developer at 0x1da6a3f78b0>"
      ]
     },
     "execution_count": 66,
     "metadata": {},
     "output_type": "execute_result"
    }
   ],
   "source": [
    "cd.commit_function(extract_colors)"
   ]
  },
  {
   "cell_type": "code",
   "execution_count": 67,
   "id": "15f5ea25",
   "metadata": {},
   "outputs": [
    {
     "name": "stdout",
     "output_type": "stream",
     "text": [
      "found site https://www.geico.com\n",
      "screenshot saved\n",
      "len(colors) = 0\n",
      "len(colors) = 2\n",
      "len(colors) = 3\n",
      "len(colors) = 3\n",
      "len(colors) = 3\n",
      "len(colors) = 3\n",
      "len(colors) = 4\n",
      "len(colors) = 4\n",
      "found 6 colors\n"
     ]
    }
   ],
   "source": [
    "geico_format = custom_format('geico')"
   ]
  },
  {
   "cell_type": "code",
   "execution_count": 68,
   "id": "dda0717c",
   "metadata": {},
   "outputs": [
    {
     "name": "stdout",
     "output_type": "stream",
     "text": [
      "def screenshot_homepage(self, website):\n",
      "    driver = webdriver.Chrome(options = chrome_options().add_argument(\"--headless\"))\n",
      "    if '.' not in website:\n",
      "        domains = ['com', 'org', 'gov', 'net', 'co', 'io']\n",
      "        for domain in domains:\n",
      "            try:\n",
      "                site_name = f\"https://www.{website}.{domain}\"\n",
      "                driver.get(site_name)\n",
      "                print(f'found site {site_name}')\n",
      "                break\n",
      "            except:\n",
      "                pass\n",
      "            assert False, \"couldn't find website, please input url directly\"\n",
      "    else:\n",
      "        driver.get(website)\n",
      "    # wait a few seconds\n",
      "    time.sleep(5)\n",
      "    # save screenshot of landing page\n",
      "    self.image_file = 'some-ridiculous-name-that-wont-clash-with-anything-else-asdkgjbenasdkgfhjasdf.png'\n",
      "    driver.get_screenshot_as_file(self.image_file)\n",
      "    print('screenshot saved')\n",
      "    return self\n",
      "\n"
     ]
    }
   ],
   "source": [
    "cd.get_method('screenshot_homepage')"
   ]
  },
  {
   "cell_type": "code",
   "execution_count": 69,
   "id": "3ec02956",
   "metadata": {},
   "outputs": [
    {
     "name": "stdout",
     "output_type": "stream",
     "text": [
      "C:\\Users\\ssparling\\Data-Analysis\\Python-Projects\\Package-Developer\\development_mods\\company_themes.module\\module_directory.directory\n"
     ]
    },
    {
     "data": {
      "text/plain": [
       "<package_developer.class_developer at 0x1da6a3f78b0>"
      ]
     },
     "execution_count": 69,
     "metadata": {},
     "output_type": "execute_result"
    }
   ],
   "source": [
    "def screenshot_homepage(self, website):\n",
    "    options = chrome_options()\n",
    "    options.add_argument(\"--headless\")\n",
    "    driver = webdriver.Chrome(options=options)\n",
    "    if '.' not in website:\n",
    "        domains = ['com', 'org', 'gov', 'net', 'co', 'io']\n",
    "        for domain in domains:\n",
    "            try:\n",
    "                site_name = f\"https://www.{website}.{domain}\"\n",
    "                driver.get(site_name)\n",
    "                print(f'found site {site_name}')\n",
    "                break\n",
    "            except:\n",
    "                pass\n",
    "            assert False, \"couldn't find website, please input url directly\"\n",
    "    else:\n",
    "        driver.get(website)\n",
    "    # wait a few seconds\n",
    "    time.sleep(5)\n",
    "    # save screenshot of landing page\n",
    "    self.image_file = 'some-ridiculous-name-that-wont-clash-with-anything-else-asdkgjbenasdkgfhjasdf.png'\n",
    "    driver.get_screenshot_as_file(self.image_file)\n",
    "    print('screenshot saved')\n",
    "    return self\n",
    "\n",
    "cd.commit_method(screenshot_homepage)"
   ]
  },
  {
   "cell_type": "code",
   "execution_count": 70,
   "id": "198d7d3e",
   "metadata": {},
   "outputs": [
    {
     "name": "stdout",
     "output_type": "stream",
     "text": [
      "found site https://www.geico.com\n",
      "screenshot saved\n",
      "len(colors) = 0\n",
      "len(colors) = 2\n",
      "len(colors) = 2\n",
      "len(colors) = 3\n",
      "len(colors) = 3\n",
      "len(colors) = 3\n",
      "len(colors) = 4\n",
      "len(colors) = 4\n",
      "found 6 colors\n"
     ]
    }
   ],
   "source": [
    "geico_format = custom_format('geico')"
   ]
  },
  {
   "cell_type": "code",
   "execution_count": 71,
   "id": "0fe36ff4",
   "metadata": {},
   "outputs": [
    {
     "data": {
      "text/plain": [
       "\u001b[1m\u001b[4m\u001b[38;2;0;102;255m__Some Really Important Title__\u001b[0m"
      ]
     },
     "execution_count": 71,
     "metadata": {},
     "output_type": "execute_result"
    }
   ],
   "source": [
    "geico_format.text('Some Really Important Title').title(2)"
   ]
  },
  {
   "cell_type": "markdown",
   "id": "f29111b6",
   "metadata": {},
   "source": [
    "# Binding final sourceable module"
   ]
  },
  {
   "cell_type": "code",
   "execution_count": 72,
   "id": "185db2fc",
   "metadata": {},
   "outputs": [
    {
     "name": "stdout",
     "output_type": "stream",
     "text": [
      "all_src_paths = {'C:\\\\Users\\\\ssparling\\\\Data-Analysis\\\\Python-Projects\\\\Package-Developer\\\\sourceable_modules'}\n",
      "Binding complete\n",
      "C:\\Users\\ssparling\\Data-Analysis\\Python-Projects\\Package-Developer\\development_mods\\company_themes.module\\module_directory.directory\n"
     ]
    },
    {
     "data": {
      "text/plain": [
       "<package_developer.class_developer at 0x1da6a3f78b0>"
      ]
     },
     "execution_count": 72,
     "metadata": {},
     "output_type": "execute_result"
    }
   ],
   "source": [
    "cd.bind()"
   ]
  },
  {
   "cell_type": "markdown",
   "id": "ab7e2fc0",
   "metadata": {},
   "source": [
    "# Adding some method groups"
   ]
  },
  {
   "cell_type": "code",
   "execution_count": 73,
   "id": "b1a9994c",
   "metadata": {},
   "outputs": [
    {
     "name": "stdout",
     "output_type": "stream",
     "text": [
      "__init__\n",
      "__repr__\n",
      "__str__\n",
      "bold\n",
      "color\n",
      "delete_image_file\n",
      "print_colors\n",
      "reset_palette\n",
      "return_nan\n",
      "screenshot_homepage\n",
      "text\n",
      "title\n",
      "underline\n"
     ]
    }
   ],
   "source": [
    "for k in cd.methods(filter_function=lambda x:x).keys():\n",
    "    print(k)"
   ]
  },
  {
   "cell_type": "code",
   "execution_count": 74,
   "id": "63658225",
   "metadata": {},
   "outputs": [
    {
     "name": "stdout",
     "output_type": "stream",
     "text": [
      "group_matches = set()\n",
      "def screenshot_homepage(self, website):\n",
      "    options = chrome_options()\n",
      "    options.add_argument(\"--headless\")\n",
      "    driver = webdriver.Chrome(options=options)\n",
      "    if '.' not in website:\n",
      "        domains = ['com', 'org', 'gov', 'net', 'co', 'io']\n",
      "        for domain in domains:\n",
      "            try:\n",
      "                site_name = f\"https://www.{website}.{domain}\"\n",
      "                driver.get(site_name)\n",
      "                print(f'found site {site_name}')\n",
      "                break\n",
      "            except:\n",
      "                pass\n",
      "            assert False, \"couldn't find website, please input url directly\"\n",
      "    else:\n",
      "        driver.get(website)\n",
      "    # wait a few seconds\n",
      "    time.sleep(5)\n",
      "    # save screenshot of landing page\n",
      "    self.image_file = 'some-ridiculous-name-that-wont-clash-with-anything-else-asdkgjbenasdkgfhjasdf.png'\n",
      "    driver.get_screenshot_as_file(self.image_file)\n",
      "    print('screenshot saved')\n",
      "    return self\n",
      "\n",
      "group_matches = set()\n",
      "def delete_image_file(self):\n",
      "    os.remove(self.image_file)\n",
      "    return self\n",
      "\n",
      "C:\\Users\\ssparling\\Data-Analysis\\Python-Projects\\Package-Developer\\development_mods\\company_themes.module\\module_directory.directory\n",
      "C:\\Users\\ssparling\\Data-Analysis\\Python-Projects\\Package-Developer\\development_mods\\company_themes.module\\module_directory.directory\n"
     ]
    },
    {
     "data": {
      "text/plain": [
       "<package_developer.class_developer at 0x1da6a3f78b0>"
      ]
     },
     "execution_count": 74,
     "metadata": {},
     "output_type": "execute_result"
    }
   ],
   "source": [
    "cd.add_method_group('browsing', 'screenshot_homepage', 'delete_image_file')"
   ]
  },
  {
   "cell_type": "code",
   "execution_count": 75,
   "id": "d358ab6d",
   "metadata": {},
   "outputs": [
    {
     "name": "stdout",
     "output_type": "stream",
     "text": [
      "group_matches = set()\n",
      "def bold(self, bold=True):\n",
      "    self.__bold__ = bold\n",
      "    return self\n",
      "\n",
      "group_matches = set()\n",
      "def color(self, n=1):\n",
      "    if n in {None, 0, False}:\n",
      "        self.__color__ = False\n",
      "    else:\n",
      "        self.__color__ = n\n",
      "    return self\n",
      "\n",
      "group_matches = set()\n",
      "def title(self, n=1):\n",
      "    # if not already surrounded by underscores\n",
      "    if self.__text__[:2] + self.__text__[-2:] != '____':\n",
      "        self.__text__ = f\"__{self.__text__}__\"\n",
      "    return self.bold().underline().color(n)\n",
      "\n",
      "group_matches = set()\n",
      "def underline(self, underline=True):\n",
      "    self.__underline__ = underline\n",
      "    return self\n",
      "\n",
      "C:\\Users\\ssparling\\Data-Analysis\\Python-Projects\\Package-Developer\\development_mods\\company_themes.module\\module_directory.directory\n",
      "C:\\Users\\ssparling\\Data-Analysis\\Python-Projects\\Package-Developer\\development_mods\\company_themes.module\\module_directory.directory\n"
     ]
    },
    {
     "data": {
      "text/plain": [
       "<package_developer.class_developer at 0x1da6a3f78b0>"
      ]
     },
     "execution_count": 75,
     "metadata": {},
     "output_type": "execute_result"
    }
   ],
   "source": [
    "cd.add_method_group('formatting', 'bold', 'color', 'title', 'underline')"
   ]
  },
  {
   "cell_type": "markdown",
   "id": "5c5842a9",
   "metadata": {},
   "source": [
    "# Rebinding"
   ]
  },
  {
   "cell_type": "code",
   "execution_count": 76,
   "id": "18e2772f",
   "metadata": {},
   "outputs": [
    {
     "name": "stdout",
     "output_type": "stream",
     "text": [
      "all_src_paths = {'C:\\\\Users\\\\ssparling\\\\Data-Analysis\\\\Python-Projects\\\\Package-Developer\\\\sourceable_modules'}\n",
      "Binding complete\n",
      "C:\\Users\\ssparling\\Data-Analysis\\Python-Projects\\Package-Developer\\development_mods\\company_themes.module\\module_directory.directory\n"
     ]
    },
    {
     "data": {
      "text/plain": [
       "<package_developer.class_developer at 0x1da6a3f78b0>"
      ]
     },
     "execution_count": 76,
     "metadata": {},
     "output_type": "execute_result"
    }
   ],
   "source": [
    "cd.bind()"
   ]
  },
  {
   "cell_type": "markdown",
   "id": "ae762942",
   "metadata": {},
   "source": [
    "# The End"
   ]
  },
  {
   "cell_type": "markdown",
   "id": "d91c6cb6",
   "metadata": {},
   "source": [
    "### Links\n",
    "- package-developer: https://github.com/sparling1028/package-developer\n",
    "- ascii art text generator: https://textkool.com/en\n",
    "- package-developer walkthrough video: https://youtu.be/68waSUstnys\n",
    "\n",
    "##### Solomon's Contact:\n",
    "- https://www.linkedin.com/in/solomonsparling/\n",
    "- sparlingsolomon@gmail.com"
   ]
  },
  {
   "cell_type": "code",
   "execution_count": null,
   "id": "2a9cc2d7",
   "metadata": {},
   "outputs": [],
   "source": []
  }
 ],
 "metadata": {
  "kernelspec": {
   "display_name": "Python 3 (ipykernel)",
   "language": "python",
   "name": "python3"
  },
  "language_info": {
   "codemirror_mode": {
    "name": "ipython",
    "version": 3
   },
   "file_extension": ".py",
   "mimetype": "text/x-python",
   "name": "python",
   "nbconvert_exporter": "python",
   "pygments_lexer": "ipython3",
   "version": "3.9.10"
  }
 },
 "nbformat": 4,
 "nbformat_minor": 5
}
